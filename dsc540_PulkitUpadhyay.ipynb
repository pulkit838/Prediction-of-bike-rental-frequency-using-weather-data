{
 "cells": [
  {
   "cell_type": "markdown",
   "id": "ad56c96e",
   "metadata": {},
   "source": [
    "# DSC 540 Final Project "
   ]
  },
  {
   "cell_type": "markdown",
   "id": "25b50b6e",
   "metadata": {},
   "source": [
    "# PULKIT UPADHYAY"
   ]
  },
  {
   "cell_type": "markdown",
   "id": "d9afa8da",
   "metadata": {},
   "source": [
    "I am using the Seoul Bike Sharing demand prediction data. My goal though is to find the best model or technique to predict the temperature of seoul using the variables present in the dataset. "
   ]
  },
  {
   "cell_type": "markdown",
   "id": "61016678",
   "metadata": {},
   "source": [
    "Link for the data set:\n",
    "https://www.kaggle.com/datasets/saurabhshahane/seoul-bike-sharing-demand-prediction"
   ]
  },
  {
   "cell_type": "markdown",
   "id": "6d372fbc",
   "metadata": {},
   "source": [
    "# Libraries used"
   ]
  },
  {
   "cell_type": "code",
   "execution_count": 126,
   "id": "e73e7bff",
   "metadata": {},
   "outputs": [],
   "source": [
    "import pandas as pd\n",
    "import numpy as np\n",
    "import matplotlib.pyplot as plt\n",
    "import seaborn as sns\n",
    "from sklearn.model_selection import train_test_split\n",
    "from sklearn.preprocessing import StandardScaler\n",
    "from sklearn.linear_model import LinearRegression\n",
    "from sklearn.metrics import mean_squared_error, mean_absolute_error, r2_score\n",
    "from sklearn.ensemble import RandomForestRegressor\n",
    "from sklearn.model_selection import GridSearchCV\n",
    "from sklearn.feature_selection import RFE\n",
    "from sklearn.linear_model import LogisticRegression\n",
    "from sklearn.svm import SVR\n",
    "from sklearn.decomposition import PCA"
   ]
  },
  {
   "cell_type": "markdown",
   "id": "9e999a22",
   "metadata": {},
   "source": [
    "# Gathering Data, Data cleaning, and Data Preparation"
   ]
  },
  {
   "cell_type": "code",
   "execution_count": 23,
   "id": "ee087450",
   "metadata": {},
   "outputs": [],
   "source": [
    "encodings = [\"utf-8-sig\", \"latin1\", \"ISO-8859-1\", \"cp1252\"]\n",
    "\n",
    "for encoding in encodings:\n",
    "    try:\n",
    "        df = pd.read_csv(\"SeoulBikeData.csv\", encoding=encoding)\n",
    "\n",
    "        break\n",
    "    except UnicodeDecodeError:\n",
    "        continue"
   ]
  },
  {
   "cell_type": "code",
   "execution_count": 24,
   "id": "5f87dcb3",
   "metadata": {},
   "outputs": [
    {
     "name": "stdout",
     "output_type": "stream",
     "text": [
      "<class 'pandas.core.frame.DataFrame'>\n",
      "RangeIndex: 8760 entries, 0 to 8759\n",
      "Data columns (total 14 columns):\n",
      " #   Column                     Non-Null Count  Dtype  \n",
      "---  ------                     --------------  -----  \n",
      " 0   Date                       8760 non-null   object \n",
      " 1   Rented Bike Count          8760 non-null   int64  \n",
      " 2   Hour                       8760 non-null   int64  \n",
      " 3   Temperature(°C)            8760 non-null   float64\n",
      " 4   Humidity(%)                8760 non-null   int64  \n",
      " 5   Wind speed (m/s)           8760 non-null   float64\n",
      " 6   Visibility (10m)           8760 non-null   int64  \n",
      " 7   Dew point temperature(°C)  8760 non-null   float64\n",
      " 8   Solar Radiation (MJ/m2)    8760 non-null   float64\n",
      " 9   Rainfall(mm)               8760 non-null   float64\n",
      " 10  Snowfall (cm)              8760 non-null   float64\n",
      " 11  Seasons                    8760 non-null   object \n",
      " 12  Holiday                    8760 non-null   object \n",
      " 13  Functioning Day            8760 non-null   object \n",
      "dtypes: float64(6), int64(4), object(4)\n",
      "memory usage: 958.2+ KB\n"
     ]
    }
   ],
   "source": [
    "df.info()"
   ]
  },
  {
   "cell_type": "code",
   "execution_count": 25,
   "id": "029b9a70",
   "metadata": {},
   "outputs": [
    {
     "data": {
      "text/html": [
       "<div>\n",
       "<style scoped>\n",
       "    .dataframe tbody tr th:only-of-type {\n",
       "        vertical-align: middle;\n",
       "    }\n",
       "\n",
       "    .dataframe tbody tr th {\n",
       "        vertical-align: top;\n",
       "    }\n",
       "\n",
       "    .dataframe thead th {\n",
       "        text-align: right;\n",
       "    }\n",
       "</style>\n",
       "<table border=\"1\" class=\"dataframe\">\n",
       "  <thead>\n",
       "    <tr style=\"text-align: right;\">\n",
       "      <th></th>\n",
       "      <th>Date</th>\n",
       "      <th>Rented Bike Count</th>\n",
       "      <th>Hour</th>\n",
       "      <th>Temperature(°C)</th>\n",
       "      <th>Humidity(%)</th>\n",
       "      <th>Wind speed (m/s)</th>\n",
       "      <th>Visibility (10m)</th>\n",
       "      <th>Dew point temperature(°C)</th>\n",
       "      <th>Solar Radiation (MJ/m2)</th>\n",
       "      <th>Rainfall(mm)</th>\n",
       "      <th>Snowfall (cm)</th>\n",
       "      <th>Seasons</th>\n",
       "      <th>Holiday</th>\n",
       "      <th>Functioning Day</th>\n",
       "    </tr>\n",
       "  </thead>\n",
       "  <tbody>\n",
       "    <tr>\n",
       "      <th>count</th>\n",
       "      <td>8760</td>\n",
       "      <td>8760.000000</td>\n",
       "      <td>8760.000000</td>\n",
       "      <td>8760.000000</td>\n",
       "      <td>8760.000000</td>\n",
       "      <td>8760.000000</td>\n",
       "      <td>8760.000000</td>\n",
       "      <td>8760.000000</td>\n",
       "      <td>8760.000000</td>\n",
       "      <td>8760.000000</td>\n",
       "      <td>8760.000000</td>\n",
       "      <td>8760</td>\n",
       "      <td>8760</td>\n",
       "      <td>8760</td>\n",
       "    </tr>\n",
       "    <tr>\n",
       "      <th>unique</th>\n",
       "      <td>365</td>\n",
       "      <td>NaN</td>\n",
       "      <td>NaN</td>\n",
       "      <td>NaN</td>\n",
       "      <td>NaN</td>\n",
       "      <td>NaN</td>\n",
       "      <td>NaN</td>\n",
       "      <td>NaN</td>\n",
       "      <td>NaN</td>\n",
       "      <td>NaN</td>\n",
       "      <td>NaN</td>\n",
       "      <td>4</td>\n",
       "      <td>2</td>\n",
       "      <td>2</td>\n",
       "    </tr>\n",
       "    <tr>\n",
       "      <th>top</th>\n",
       "      <td>01/12/2017</td>\n",
       "      <td>NaN</td>\n",
       "      <td>NaN</td>\n",
       "      <td>NaN</td>\n",
       "      <td>NaN</td>\n",
       "      <td>NaN</td>\n",
       "      <td>NaN</td>\n",
       "      <td>NaN</td>\n",
       "      <td>NaN</td>\n",
       "      <td>NaN</td>\n",
       "      <td>NaN</td>\n",
       "      <td>Spring</td>\n",
       "      <td>No Holiday</td>\n",
       "      <td>Yes</td>\n",
       "    </tr>\n",
       "    <tr>\n",
       "      <th>freq</th>\n",
       "      <td>24</td>\n",
       "      <td>NaN</td>\n",
       "      <td>NaN</td>\n",
       "      <td>NaN</td>\n",
       "      <td>NaN</td>\n",
       "      <td>NaN</td>\n",
       "      <td>NaN</td>\n",
       "      <td>NaN</td>\n",
       "      <td>NaN</td>\n",
       "      <td>NaN</td>\n",
       "      <td>NaN</td>\n",
       "      <td>2208</td>\n",
       "      <td>8328</td>\n",
       "      <td>8465</td>\n",
       "    </tr>\n",
       "    <tr>\n",
       "      <th>mean</th>\n",
       "      <td>NaN</td>\n",
       "      <td>704.602055</td>\n",
       "      <td>11.500000</td>\n",
       "      <td>12.882922</td>\n",
       "      <td>58.226256</td>\n",
       "      <td>1.724909</td>\n",
       "      <td>1436.825799</td>\n",
       "      <td>4.073813</td>\n",
       "      <td>0.569111</td>\n",
       "      <td>0.148687</td>\n",
       "      <td>0.075068</td>\n",
       "      <td>NaN</td>\n",
       "      <td>NaN</td>\n",
       "      <td>NaN</td>\n",
       "    </tr>\n",
       "    <tr>\n",
       "      <th>std</th>\n",
       "      <td>NaN</td>\n",
       "      <td>644.997468</td>\n",
       "      <td>6.922582</td>\n",
       "      <td>11.944825</td>\n",
       "      <td>20.362413</td>\n",
       "      <td>1.036300</td>\n",
       "      <td>608.298712</td>\n",
       "      <td>13.060369</td>\n",
       "      <td>0.868746</td>\n",
       "      <td>1.128193</td>\n",
       "      <td>0.436746</td>\n",
       "      <td>NaN</td>\n",
       "      <td>NaN</td>\n",
       "      <td>NaN</td>\n",
       "    </tr>\n",
       "    <tr>\n",
       "      <th>min</th>\n",
       "      <td>NaN</td>\n",
       "      <td>0.000000</td>\n",
       "      <td>0.000000</td>\n",
       "      <td>-17.800000</td>\n",
       "      <td>0.000000</td>\n",
       "      <td>0.000000</td>\n",
       "      <td>27.000000</td>\n",
       "      <td>-30.600000</td>\n",
       "      <td>0.000000</td>\n",
       "      <td>0.000000</td>\n",
       "      <td>0.000000</td>\n",
       "      <td>NaN</td>\n",
       "      <td>NaN</td>\n",
       "      <td>NaN</td>\n",
       "    </tr>\n",
       "    <tr>\n",
       "      <th>25%</th>\n",
       "      <td>NaN</td>\n",
       "      <td>191.000000</td>\n",
       "      <td>5.750000</td>\n",
       "      <td>3.500000</td>\n",
       "      <td>42.000000</td>\n",
       "      <td>0.900000</td>\n",
       "      <td>940.000000</td>\n",
       "      <td>-4.700000</td>\n",
       "      <td>0.000000</td>\n",
       "      <td>0.000000</td>\n",
       "      <td>0.000000</td>\n",
       "      <td>NaN</td>\n",
       "      <td>NaN</td>\n",
       "      <td>NaN</td>\n",
       "    </tr>\n",
       "    <tr>\n",
       "      <th>50%</th>\n",
       "      <td>NaN</td>\n",
       "      <td>504.500000</td>\n",
       "      <td>11.500000</td>\n",
       "      <td>13.700000</td>\n",
       "      <td>57.000000</td>\n",
       "      <td>1.500000</td>\n",
       "      <td>1698.000000</td>\n",
       "      <td>5.100000</td>\n",
       "      <td>0.010000</td>\n",
       "      <td>0.000000</td>\n",
       "      <td>0.000000</td>\n",
       "      <td>NaN</td>\n",
       "      <td>NaN</td>\n",
       "      <td>NaN</td>\n",
       "    </tr>\n",
       "    <tr>\n",
       "      <th>75%</th>\n",
       "      <td>NaN</td>\n",
       "      <td>1065.250000</td>\n",
       "      <td>17.250000</td>\n",
       "      <td>22.500000</td>\n",
       "      <td>74.000000</td>\n",
       "      <td>2.300000</td>\n",
       "      <td>2000.000000</td>\n",
       "      <td>14.800000</td>\n",
       "      <td>0.930000</td>\n",
       "      <td>0.000000</td>\n",
       "      <td>0.000000</td>\n",
       "      <td>NaN</td>\n",
       "      <td>NaN</td>\n",
       "      <td>NaN</td>\n",
       "    </tr>\n",
       "    <tr>\n",
       "      <th>max</th>\n",
       "      <td>NaN</td>\n",
       "      <td>3556.000000</td>\n",
       "      <td>23.000000</td>\n",
       "      <td>39.400000</td>\n",
       "      <td>98.000000</td>\n",
       "      <td>7.400000</td>\n",
       "      <td>2000.000000</td>\n",
       "      <td>27.200000</td>\n",
       "      <td>3.520000</td>\n",
       "      <td>35.000000</td>\n",
       "      <td>8.800000</td>\n",
       "      <td>NaN</td>\n",
       "      <td>NaN</td>\n",
       "      <td>NaN</td>\n",
       "    </tr>\n",
       "  </tbody>\n",
       "</table>\n",
       "</div>"
      ],
      "text/plain": [
       "              Date  Rented Bike Count         Hour  Temperature(°C)  \\\n",
       "count         8760        8760.000000  8760.000000      8760.000000   \n",
       "unique         365                NaN          NaN              NaN   \n",
       "top     01/12/2017                NaN          NaN              NaN   \n",
       "freq            24                NaN          NaN              NaN   \n",
       "mean           NaN         704.602055    11.500000        12.882922   \n",
       "std            NaN         644.997468     6.922582        11.944825   \n",
       "min            NaN           0.000000     0.000000       -17.800000   \n",
       "25%            NaN         191.000000     5.750000         3.500000   \n",
       "50%            NaN         504.500000    11.500000        13.700000   \n",
       "75%            NaN        1065.250000    17.250000        22.500000   \n",
       "max            NaN        3556.000000    23.000000        39.400000   \n",
       "\n",
       "        Humidity(%)  Wind speed (m/s)  Visibility (10m)  \\\n",
       "count   8760.000000       8760.000000       8760.000000   \n",
       "unique          NaN               NaN               NaN   \n",
       "top             NaN               NaN               NaN   \n",
       "freq            NaN               NaN               NaN   \n",
       "mean      58.226256          1.724909       1436.825799   \n",
       "std       20.362413          1.036300        608.298712   \n",
       "min        0.000000          0.000000         27.000000   \n",
       "25%       42.000000          0.900000        940.000000   \n",
       "50%       57.000000          1.500000       1698.000000   \n",
       "75%       74.000000          2.300000       2000.000000   \n",
       "max       98.000000          7.400000       2000.000000   \n",
       "\n",
       "        Dew point temperature(°C)  Solar Radiation (MJ/m2)  Rainfall(mm)  \\\n",
       "count                 8760.000000              8760.000000   8760.000000   \n",
       "unique                        NaN                      NaN           NaN   \n",
       "top                           NaN                      NaN           NaN   \n",
       "freq                          NaN                      NaN           NaN   \n",
       "mean                     4.073813                 0.569111      0.148687   \n",
       "std                     13.060369                 0.868746      1.128193   \n",
       "min                    -30.600000                 0.000000      0.000000   \n",
       "25%                     -4.700000                 0.000000      0.000000   \n",
       "50%                      5.100000                 0.010000      0.000000   \n",
       "75%                     14.800000                 0.930000      0.000000   \n",
       "max                     27.200000                 3.520000     35.000000   \n",
       "\n",
       "        Snowfall (cm) Seasons     Holiday Functioning Day  \n",
       "count     8760.000000    8760        8760            8760  \n",
       "unique            NaN       4           2               2  \n",
       "top               NaN  Spring  No Holiday             Yes  \n",
       "freq              NaN    2208        8328            8465  \n",
       "mean         0.075068     NaN         NaN             NaN  \n",
       "std          0.436746     NaN         NaN             NaN  \n",
       "min          0.000000     NaN         NaN             NaN  \n",
       "25%          0.000000     NaN         NaN             NaN  \n",
       "50%          0.000000     NaN         NaN             NaN  \n",
       "75%          0.000000     NaN         NaN             NaN  \n",
       "max          8.800000     NaN         NaN             NaN  "
      ]
     },
     "execution_count": 25,
     "metadata": {},
     "output_type": "execute_result"
    }
   ],
   "source": [
    "df.describe(include = 'all')"
   ]
  },
  {
   "cell_type": "code",
   "execution_count": 26,
   "id": "b4ce7478",
   "metadata": {},
   "outputs": [
    {
     "data": {
      "text/plain": [
       "(8760, 14)"
      ]
     },
     "execution_count": 26,
     "metadata": {},
     "output_type": "execute_result"
    }
   ],
   "source": [
    "df.shape"
   ]
  },
  {
   "cell_type": "code",
   "execution_count": 27,
   "id": "ebf5a511",
   "metadata": {},
   "outputs": [],
   "source": [
    "df['Date'] = pd.to_datetime(df['Date']) "
   ]
  },
  {
   "cell_type": "code",
   "execution_count": 28,
   "id": "d1a08dfb",
   "metadata": {},
   "outputs": [],
   "source": [
    "df['Day'] = df['Date'].dt.day\n",
    "df['Month'] = df['Date'].dt.month\n",
    "df['Year'] = df['Date'].dt.year"
   ]
  },
  {
   "cell_type": "code",
   "execution_count": 29,
   "id": "069a299a",
   "metadata": {},
   "outputs": [
    {
     "data": {
      "text/html": [
       "<div>\n",
       "<style scoped>\n",
       "    .dataframe tbody tr th:only-of-type {\n",
       "        vertical-align: middle;\n",
       "    }\n",
       "\n",
       "    .dataframe tbody tr th {\n",
       "        vertical-align: top;\n",
       "    }\n",
       "\n",
       "    .dataframe thead th {\n",
       "        text-align: right;\n",
       "    }\n",
       "</style>\n",
       "<table border=\"1\" class=\"dataframe\">\n",
       "  <thead>\n",
       "    <tr style=\"text-align: right;\">\n",
       "      <th></th>\n",
       "      <th>Hour</th>\n",
       "      <th>Temperature(°C)</th>\n",
       "      <th>Humidity(%)</th>\n",
       "      <th>Wind speed (m/s)</th>\n",
       "      <th>Visibility (10m)</th>\n",
       "      <th>Dew point temperature(°C)</th>\n",
       "      <th>Solar Radiation (MJ/m2)</th>\n",
       "      <th>Rainfall(mm)</th>\n",
       "      <th>Snowfall (cm)</th>\n",
       "      <th>Seasons</th>\n",
       "      <th>Day</th>\n",
       "      <th>Month</th>\n",
       "      <th>Year</th>\n",
       "    </tr>\n",
       "  </thead>\n",
       "  <tbody>\n",
       "    <tr>\n",
       "      <th>0</th>\n",
       "      <td>0</td>\n",
       "      <td>-5.2</td>\n",
       "      <td>37</td>\n",
       "      <td>2.2</td>\n",
       "      <td>2000</td>\n",
       "      <td>-17.6</td>\n",
       "      <td>0.0</td>\n",
       "      <td>0.0</td>\n",
       "      <td>0.0</td>\n",
       "      <td>Winter</td>\n",
       "      <td>12</td>\n",
       "      <td>1</td>\n",
       "      <td>2017</td>\n",
       "    </tr>\n",
       "    <tr>\n",
       "      <th>1</th>\n",
       "      <td>1</td>\n",
       "      <td>-5.5</td>\n",
       "      <td>38</td>\n",
       "      <td>0.8</td>\n",
       "      <td>2000</td>\n",
       "      <td>-17.6</td>\n",
       "      <td>0.0</td>\n",
       "      <td>0.0</td>\n",
       "      <td>0.0</td>\n",
       "      <td>Winter</td>\n",
       "      <td>12</td>\n",
       "      <td>1</td>\n",
       "      <td>2017</td>\n",
       "    </tr>\n",
       "    <tr>\n",
       "      <th>2</th>\n",
       "      <td>2</td>\n",
       "      <td>-6.0</td>\n",
       "      <td>39</td>\n",
       "      <td>1.0</td>\n",
       "      <td>2000</td>\n",
       "      <td>-17.7</td>\n",
       "      <td>0.0</td>\n",
       "      <td>0.0</td>\n",
       "      <td>0.0</td>\n",
       "      <td>Winter</td>\n",
       "      <td>12</td>\n",
       "      <td>1</td>\n",
       "      <td>2017</td>\n",
       "    </tr>\n",
       "    <tr>\n",
       "      <th>3</th>\n",
       "      <td>3</td>\n",
       "      <td>-6.2</td>\n",
       "      <td>40</td>\n",
       "      <td>0.9</td>\n",
       "      <td>2000</td>\n",
       "      <td>-17.6</td>\n",
       "      <td>0.0</td>\n",
       "      <td>0.0</td>\n",
       "      <td>0.0</td>\n",
       "      <td>Winter</td>\n",
       "      <td>12</td>\n",
       "      <td>1</td>\n",
       "      <td>2017</td>\n",
       "    </tr>\n",
       "    <tr>\n",
       "      <th>4</th>\n",
       "      <td>4</td>\n",
       "      <td>-6.0</td>\n",
       "      <td>36</td>\n",
       "      <td>2.3</td>\n",
       "      <td>2000</td>\n",
       "      <td>-18.6</td>\n",
       "      <td>0.0</td>\n",
       "      <td>0.0</td>\n",
       "      <td>0.0</td>\n",
       "      <td>Winter</td>\n",
       "      <td>12</td>\n",
       "      <td>1</td>\n",
       "      <td>2017</td>\n",
       "    </tr>\n",
       "    <tr>\n",
       "      <th>...</th>\n",
       "      <td>...</td>\n",
       "      <td>...</td>\n",
       "      <td>...</td>\n",
       "      <td>...</td>\n",
       "      <td>...</td>\n",
       "      <td>...</td>\n",
       "      <td>...</td>\n",
       "      <td>...</td>\n",
       "      <td>...</td>\n",
       "      <td>...</td>\n",
       "      <td>...</td>\n",
       "      <td>...</td>\n",
       "      <td>...</td>\n",
       "    </tr>\n",
       "    <tr>\n",
       "      <th>8755</th>\n",
       "      <td>19</td>\n",
       "      <td>4.2</td>\n",
       "      <td>34</td>\n",
       "      <td>2.6</td>\n",
       "      <td>1894</td>\n",
       "      <td>-10.3</td>\n",
       "      <td>0.0</td>\n",
       "      <td>0.0</td>\n",
       "      <td>0.0</td>\n",
       "      <td>Autumn</td>\n",
       "      <td>30</td>\n",
       "      <td>11</td>\n",
       "      <td>2018</td>\n",
       "    </tr>\n",
       "    <tr>\n",
       "      <th>8756</th>\n",
       "      <td>20</td>\n",
       "      <td>3.4</td>\n",
       "      <td>37</td>\n",
       "      <td>2.3</td>\n",
       "      <td>2000</td>\n",
       "      <td>-9.9</td>\n",
       "      <td>0.0</td>\n",
       "      <td>0.0</td>\n",
       "      <td>0.0</td>\n",
       "      <td>Autumn</td>\n",
       "      <td>30</td>\n",
       "      <td>11</td>\n",
       "      <td>2018</td>\n",
       "    </tr>\n",
       "    <tr>\n",
       "      <th>8757</th>\n",
       "      <td>21</td>\n",
       "      <td>2.6</td>\n",
       "      <td>39</td>\n",
       "      <td>0.3</td>\n",
       "      <td>1968</td>\n",
       "      <td>-9.9</td>\n",
       "      <td>0.0</td>\n",
       "      <td>0.0</td>\n",
       "      <td>0.0</td>\n",
       "      <td>Autumn</td>\n",
       "      <td>30</td>\n",
       "      <td>11</td>\n",
       "      <td>2018</td>\n",
       "    </tr>\n",
       "    <tr>\n",
       "      <th>8758</th>\n",
       "      <td>22</td>\n",
       "      <td>2.1</td>\n",
       "      <td>41</td>\n",
       "      <td>1.0</td>\n",
       "      <td>1859</td>\n",
       "      <td>-9.8</td>\n",
       "      <td>0.0</td>\n",
       "      <td>0.0</td>\n",
       "      <td>0.0</td>\n",
       "      <td>Autumn</td>\n",
       "      <td>30</td>\n",
       "      <td>11</td>\n",
       "      <td>2018</td>\n",
       "    </tr>\n",
       "    <tr>\n",
       "      <th>8759</th>\n",
       "      <td>23</td>\n",
       "      <td>1.9</td>\n",
       "      <td>43</td>\n",
       "      <td>1.3</td>\n",
       "      <td>1909</td>\n",
       "      <td>-9.3</td>\n",
       "      <td>0.0</td>\n",
       "      <td>0.0</td>\n",
       "      <td>0.0</td>\n",
       "      <td>Autumn</td>\n",
       "      <td>30</td>\n",
       "      <td>11</td>\n",
       "      <td>2018</td>\n",
       "    </tr>\n",
       "  </tbody>\n",
       "</table>\n",
       "<p>8760 rows × 13 columns</p>\n",
       "</div>"
      ],
      "text/plain": [
       "      Hour  Temperature(°C)  Humidity(%)  Wind speed (m/s)  Visibility (10m)  \\\n",
       "0        0             -5.2           37               2.2              2000   \n",
       "1        1             -5.5           38               0.8              2000   \n",
       "2        2             -6.0           39               1.0              2000   \n",
       "3        3             -6.2           40               0.9              2000   \n",
       "4        4             -6.0           36               2.3              2000   \n",
       "...    ...              ...          ...               ...               ...   \n",
       "8755    19              4.2           34               2.6              1894   \n",
       "8756    20              3.4           37               2.3              2000   \n",
       "8757    21              2.6           39               0.3              1968   \n",
       "8758    22              2.1           41               1.0              1859   \n",
       "8759    23              1.9           43               1.3              1909   \n",
       "\n",
       "      Dew point temperature(°C)  Solar Radiation (MJ/m2)  Rainfall(mm)  \\\n",
       "0                         -17.6                      0.0           0.0   \n",
       "1                         -17.6                      0.0           0.0   \n",
       "2                         -17.7                      0.0           0.0   \n",
       "3                         -17.6                      0.0           0.0   \n",
       "4                         -18.6                      0.0           0.0   \n",
       "...                         ...                      ...           ...   \n",
       "8755                      -10.3                      0.0           0.0   \n",
       "8756                       -9.9                      0.0           0.0   \n",
       "8757                       -9.9                      0.0           0.0   \n",
       "8758                       -9.8                      0.0           0.0   \n",
       "8759                       -9.3                      0.0           0.0   \n",
       "\n",
       "      Snowfall (cm) Seasons  Day  Month  Year  \n",
       "0               0.0  Winter   12      1  2017  \n",
       "1               0.0  Winter   12      1  2017  \n",
       "2               0.0  Winter   12      1  2017  \n",
       "3               0.0  Winter   12      1  2017  \n",
       "4               0.0  Winter   12      1  2017  \n",
       "...             ...     ...  ...    ...   ...  \n",
       "8755            0.0  Autumn   30     11  2018  \n",
       "8756            0.0  Autumn   30     11  2018  \n",
       "8757            0.0  Autumn   30     11  2018  \n",
       "8758            0.0  Autumn   30     11  2018  \n",
       "8759            0.0  Autumn   30     11  2018  \n",
       "\n",
       "[8760 rows x 13 columns]"
      ]
     },
     "execution_count": 29,
     "metadata": {},
     "output_type": "execute_result"
    }
   ],
   "source": [
    "df.drop(columns = ['Date','Rented Bike Count', 'Holiday', 'Functioning Day'],inplace=True)\n",
    "df"
   ]
  },
  {
   "cell_type": "code",
   "execution_count": 31,
   "id": "43865edd",
   "metadata": {},
   "outputs": [
    {
     "data": {
      "text/plain": [
       "Hour                         0\n",
       "Temperature(°C)              0\n",
       "Humidity(%)                  0\n",
       "Wind speed (m/s)             0\n",
       "Visibility (10m)             0\n",
       "Dew point temperature(°C)    0\n",
       "Solar Radiation (MJ/m2)      0\n",
       "Rainfall(mm)                 0\n",
       "Snowfall (cm)                0\n",
       "Seasons                      0\n",
       "Day                          0\n",
       "Month                        0\n",
       "Year                         0\n",
       "dtype: int64"
      ]
     },
     "execution_count": 31,
     "metadata": {},
     "output_type": "execute_result"
    }
   ],
   "source": [
    "df.isnull().sum()"
   ]
  },
  {
   "cell_type": "code",
   "execution_count": 33,
   "id": "190b1cb3",
   "metadata": {},
   "outputs": [
    {
     "data": {
      "text/plain": [
       "0"
      ]
     },
     "execution_count": 33,
     "metadata": {},
     "output_type": "execute_result"
    }
   ],
   "source": [
    "duplicates = df[df.duplicated()]\n",
    "len(duplicates)"
   ]
  },
  {
   "cell_type": "code",
   "execution_count": 34,
   "id": "6ca8f6fc",
   "metadata": {},
   "outputs": [],
   "source": [
    "df_dummies = pd.get_dummies(df)"
   ]
  },
  {
   "cell_type": "code",
   "execution_count": 35,
   "id": "87fa743b",
   "metadata": {},
   "outputs": [
    {
     "data": {
      "text/html": [
       "<div>\n",
       "<style scoped>\n",
       "    .dataframe tbody tr th:only-of-type {\n",
       "        vertical-align: middle;\n",
       "    }\n",
       "\n",
       "    .dataframe tbody tr th {\n",
       "        vertical-align: top;\n",
       "    }\n",
       "\n",
       "    .dataframe thead th {\n",
       "        text-align: right;\n",
       "    }\n",
       "</style>\n",
       "<table border=\"1\" class=\"dataframe\">\n",
       "  <thead>\n",
       "    <tr style=\"text-align: right;\">\n",
       "      <th></th>\n",
       "      <th>Hour</th>\n",
       "      <th>Temperature(°C)</th>\n",
       "      <th>Humidity(%)</th>\n",
       "      <th>Wind speed (m/s)</th>\n",
       "      <th>Visibility (10m)</th>\n",
       "      <th>Dew point temperature(°C)</th>\n",
       "      <th>Solar Radiation (MJ/m2)</th>\n",
       "      <th>Rainfall(mm)</th>\n",
       "      <th>Snowfall (cm)</th>\n",
       "      <th>Day</th>\n",
       "      <th>Month</th>\n",
       "      <th>Year</th>\n",
       "      <th>Seasons_Autumn</th>\n",
       "      <th>Seasons_Spring</th>\n",
       "      <th>Seasons_Summer</th>\n",
       "      <th>Seasons_Winter</th>\n",
       "    </tr>\n",
       "  </thead>\n",
       "  <tbody>\n",
       "    <tr>\n",
       "      <th>0</th>\n",
       "      <td>0</td>\n",
       "      <td>-5.2</td>\n",
       "      <td>37</td>\n",
       "      <td>2.2</td>\n",
       "      <td>2000</td>\n",
       "      <td>-17.6</td>\n",
       "      <td>0.0</td>\n",
       "      <td>0.0</td>\n",
       "      <td>0.0</td>\n",
       "      <td>12</td>\n",
       "      <td>1</td>\n",
       "      <td>2017</td>\n",
       "      <td>0</td>\n",
       "      <td>0</td>\n",
       "      <td>0</td>\n",
       "      <td>1</td>\n",
       "    </tr>\n",
       "    <tr>\n",
       "      <th>1</th>\n",
       "      <td>1</td>\n",
       "      <td>-5.5</td>\n",
       "      <td>38</td>\n",
       "      <td>0.8</td>\n",
       "      <td>2000</td>\n",
       "      <td>-17.6</td>\n",
       "      <td>0.0</td>\n",
       "      <td>0.0</td>\n",
       "      <td>0.0</td>\n",
       "      <td>12</td>\n",
       "      <td>1</td>\n",
       "      <td>2017</td>\n",
       "      <td>0</td>\n",
       "      <td>0</td>\n",
       "      <td>0</td>\n",
       "      <td>1</td>\n",
       "    </tr>\n",
       "    <tr>\n",
       "      <th>2</th>\n",
       "      <td>2</td>\n",
       "      <td>-6.0</td>\n",
       "      <td>39</td>\n",
       "      <td>1.0</td>\n",
       "      <td>2000</td>\n",
       "      <td>-17.7</td>\n",
       "      <td>0.0</td>\n",
       "      <td>0.0</td>\n",
       "      <td>0.0</td>\n",
       "      <td>12</td>\n",
       "      <td>1</td>\n",
       "      <td>2017</td>\n",
       "      <td>0</td>\n",
       "      <td>0</td>\n",
       "      <td>0</td>\n",
       "      <td>1</td>\n",
       "    </tr>\n",
       "    <tr>\n",
       "      <th>3</th>\n",
       "      <td>3</td>\n",
       "      <td>-6.2</td>\n",
       "      <td>40</td>\n",
       "      <td>0.9</td>\n",
       "      <td>2000</td>\n",
       "      <td>-17.6</td>\n",
       "      <td>0.0</td>\n",
       "      <td>0.0</td>\n",
       "      <td>0.0</td>\n",
       "      <td>12</td>\n",
       "      <td>1</td>\n",
       "      <td>2017</td>\n",
       "      <td>0</td>\n",
       "      <td>0</td>\n",
       "      <td>0</td>\n",
       "      <td>1</td>\n",
       "    </tr>\n",
       "    <tr>\n",
       "      <th>4</th>\n",
       "      <td>4</td>\n",
       "      <td>-6.0</td>\n",
       "      <td>36</td>\n",
       "      <td>2.3</td>\n",
       "      <td>2000</td>\n",
       "      <td>-18.6</td>\n",
       "      <td>0.0</td>\n",
       "      <td>0.0</td>\n",
       "      <td>0.0</td>\n",
       "      <td>12</td>\n",
       "      <td>1</td>\n",
       "      <td>2017</td>\n",
       "      <td>0</td>\n",
       "      <td>0</td>\n",
       "      <td>0</td>\n",
       "      <td>1</td>\n",
       "    </tr>\n",
       "    <tr>\n",
       "      <th>...</th>\n",
       "      <td>...</td>\n",
       "      <td>...</td>\n",
       "      <td>...</td>\n",
       "      <td>...</td>\n",
       "      <td>...</td>\n",
       "      <td>...</td>\n",
       "      <td>...</td>\n",
       "      <td>...</td>\n",
       "      <td>...</td>\n",
       "      <td>...</td>\n",
       "      <td>...</td>\n",
       "      <td>...</td>\n",
       "      <td>...</td>\n",
       "      <td>...</td>\n",
       "      <td>...</td>\n",
       "      <td>...</td>\n",
       "    </tr>\n",
       "    <tr>\n",
       "      <th>8755</th>\n",
       "      <td>19</td>\n",
       "      <td>4.2</td>\n",
       "      <td>34</td>\n",
       "      <td>2.6</td>\n",
       "      <td>1894</td>\n",
       "      <td>-10.3</td>\n",
       "      <td>0.0</td>\n",
       "      <td>0.0</td>\n",
       "      <td>0.0</td>\n",
       "      <td>30</td>\n",
       "      <td>11</td>\n",
       "      <td>2018</td>\n",
       "      <td>1</td>\n",
       "      <td>0</td>\n",
       "      <td>0</td>\n",
       "      <td>0</td>\n",
       "    </tr>\n",
       "    <tr>\n",
       "      <th>8756</th>\n",
       "      <td>20</td>\n",
       "      <td>3.4</td>\n",
       "      <td>37</td>\n",
       "      <td>2.3</td>\n",
       "      <td>2000</td>\n",
       "      <td>-9.9</td>\n",
       "      <td>0.0</td>\n",
       "      <td>0.0</td>\n",
       "      <td>0.0</td>\n",
       "      <td>30</td>\n",
       "      <td>11</td>\n",
       "      <td>2018</td>\n",
       "      <td>1</td>\n",
       "      <td>0</td>\n",
       "      <td>0</td>\n",
       "      <td>0</td>\n",
       "    </tr>\n",
       "    <tr>\n",
       "      <th>8757</th>\n",
       "      <td>21</td>\n",
       "      <td>2.6</td>\n",
       "      <td>39</td>\n",
       "      <td>0.3</td>\n",
       "      <td>1968</td>\n",
       "      <td>-9.9</td>\n",
       "      <td>0.0</td>\n",
       "      <td>0.0</td>\n",
       "      <td>0.0</td>\n",
       "      <td>30</td>\n",
       "      <td>11</td>\n",
       "      <td>2018</td>\n",
       "      <td>1</td>\n",
       "      <td>0</td>\n",
       "      <td>0</td>\n",
       "      <td>0</td>\n",
       "    </tr>\n",
       "    <tr>\n",
       "      <th>8758</th>\n",
       "      <td>22</td>\n",
       "      <td>2.1</td>\n",
       "      <td>41</td>\n",
       "      <td>1.0</td>\n",
       "      <td>1859</td>\n",
       "      <td>-9.8</td>\n",
       "      <td>0.0</td>\n",
       "      <td>0.0</td>\n",
       "      <td>0.0</td>\n",
       "      <td>30</td>\n",
       "      <td>11</td>\n",
       "      <td>2018</td>\n",
       "      <td>1</td>\n",
       "      <td>0</td>\n",
       "      <td>0</td>\n",
       "      <td>0</td>\n",
       "    </tr>\n",
       "    <tr>\n",
       "      <th>8759</th>\n",
       "      <td>23</td>\n",
       "      <td>1.9</td>\n",
       "      <td>43</td>\n",
       "      <td>1.3</td>\n",
       "      <td>1909</td>\n",
       "      <td>-9.3</td>\n",
       "      <td>0.0</td>\n",
       "      <td>0.0</td>\n",
       "      <td>0.0</td>\n",
       "      <td>30</td>\n",
       "      <td>11</td>\n",
       "      <td>2018</td>\n",
       "      <td>1</td>\n",
       "      <td>0</td>\n",
       "      <td>0</td>\n",
       "      <td>0</td>\n",
       "    </tr>\n",
       "  </tbody>\n",
       "</table>\n",
       "<p>8760 rows × 16 columns</p>\n",
       "</div>"
      ],
      "text/plain": [
       "      Hour  Temperature(°C)  Humidity(%)  Wind speed (m/s)  Visibility (10m)  \\\n",
       "0        0             -5.2           37               2.2              2000   \n",
       "1        1             -5.5           38               0.8              2000   \n",
       "2        2             -6.0           39               1.0              2000   \n",
       "3        3             -6.2           40               0.9              2000   \n",
       "4        4             -6.0           36               2.3              2000   \n",
       "...    ...              ...          ...               ...               ...   \n",
       "8755    19              4.2           34               2.6              1894   \n",
       "8756    20              3.4           37               2.3              2000   \n",
       "8757    21              2.6           39               0.3              1968   \n",
       "8758    22              2.1           41               1.0              1859   \n",
       "8759    23              1.9           43               1.3              1909   \n",
       "\n",
       "      Dew point temperature(°C)  Solar Radiation (MJ/m2)  Rainfall(mm)  \\\n",
       "0                         -17.6                      0.0           0.0   \n",
       "1                         -17.6                      0.0           0.0   \n",
       "2                         -17.7                      0.0           0.0   \n",
       "3                         -17.6                      0.0           0.0   \n",
       "4                         -18.6                      0.0           0.0   \n",
       "...                         ...                      ...           ...   \n",
       "8755                      -10.3                      0.0           0.0   \n",
       "8756                       -9.9                      0.0           0.0   \n",
       "8757                       -9.9                      0.0           0.0   \n",
       "8758                       -9.8                      0.0           0.0   \n",
       "8759                       -9.3                      0.0           0.0   \n",
       "\n",
       "      Snowfall (cm)  Day  Month  Year  Seasons_Autumn  Seasons_Spring  \\\n",
       "0               0.0   12      1  2017               0               0   \n",
       "1               0.0   12      1  2017               0               0   \n",
       "2               0.0   12      1  2017               0               0   \n",
       "3               0.0   12      1  2017               0               0   \n",
       "4               0.0   12      1  2017               0               0   \n",
       "...             ...  ...    ...   ...             ...             ...   \n",
       "8755            0.0   30     11  2018               1               0   \n",
       "8756            0.0   30     11  2018               1               0   \n",
       "8757            0.0   30     11  2018               1               0   \n",
       "8758            0.0   30     11  2018               1               0   \n",
       "8759            0.0   30     11  2018               1               0   \n",
       "\n",
       "      Seasons_Summer  Seasons_Winter  \n",
       "0                  0               1  \n",
       "1                  0               1  \n",
       "2                  0               1  \n",
       "3                  0               1  \n",
       "4                  0               1  \n",
       "...              ...             ...  \n",
       "8755               0               0  \n",
       "8756               0               0  \n",
       "8757               0               0  \n",
       "8758               0               0  \n",
       "8759               0               0  \n",
       "\n",
       "[8760 rows x 16 columns]"
      ]
     },
     "execution_count": 35,
     "metadata": {},
     "output_type": "execute_result"
    }
   ],
   "source": [
    "df_dummies"
   ]
  },
  {
   "cell_type": "code",
   "execution_count": 56,
   "id": "f0f17cef",
   "metadata": {},
   "outputs": [
    {
     "data": {
      "image/png": "[encoded data removed]",
      "text/plain": [
       "<Figure size 720x576 with 2 Axes>"
      ]
     },
     "metadata": {
      "needs_background": "light"
     },
     "output_type": "display_data"
    }
   ],
   "source": [
    "corr_map = df_dummies.corr().round(2)\n",
    "\n",
    "plt.figure(figsize=(10, 8))\n",
    "sns.heatmap(corr_map, annot=True)\n",
    "plt.title('Correlation Map')\n",
    "plt.show()"
   ]
  },
  {
   "cell_type": "code",
   "execution_count": 57,
   "id": "5ff20f4e",
   "metadata": {},
   "outputs": [],
   "source": [
    "y = df_dummies['Temperature(°C)']\n",
    "X = df_dummies.drop(['Temperature(°C)'], axis=1)"
   ]
  },
  {
   "cell_type": "code",
   "execution_count": 58,
   "id": "3585ab3b",
   "metadata": {},
   "outputs": [
    {
     "data": {
      "text/plain": [
       "(8760,)"
      ]
     },
     "execution_count": 58,
     "metadata": {},
     "output_type": "execute_result"
    }
   ],
   "source": [
    "y.shape"
   ]
  },
  {
   "cell_type": "code",
   "execution_count": 59,
   "id": "2d76072a",
   "metadata": {},
   "outputs": [
    {
     "data": {
      "text/plain": [
       "(8760, 15)"
      ]
     },
     "execution_count": 59,
     "metadata": {},
     "output_type": "execute_result"
    }
   ],
   "source": [
    "X.shape"
   ]
  },
  {
   "cell_type": "code",
   "execution_count": 89,
   "id": "2a271884",
   "metadata": {},
   "outputs": [],
   "source": [
    "scores = pd.DataFrame(columns=['Model', 'Score', 'RMSE'])\n",
    "\n",
    "def model_score(model_name, score, rmse):\n",
    "    global scores\n",
    "    scores = scores.append({'Model': model_name, 'Score': score, 'RMSE': rmse}, ignore_index=True)"
   ]
  },
  {
   "cell_type": "code",
   "execution_count": 90,
   "id": "0d4ddfa2",
   "metadata": {},
   "outputs": [],
   "source": [
    "X_train, X_test, y_train, y_test = train_test_split(X, y, test_size = 0.2, random_state = 1)"
   ]
  },
  {
   "cell_type": "code",
   "execution_count": 91,
   "id": "bd26aa4c",
   "metadata": {},
   "outputs": [],
   "source": [
    "ss = StandardScaler()\n",
    "ss.fit(X_train)\n",
    "X_train = ss.transform(X_train)\n",
    "X_test = ss.transform(X_test)"
   ]
  },
  {
   "cell_type": "markdown",
   "id": "e3297f82",
   "metadata": {},
   "source": [
    "# Linear Regression "
   ]
  },
  {
   "cell_type": "code",
   "execution_count": 94,
   "id": "9369eb11",
   "metadata": {},
   "outputs": [],
   "source": [
    "lin_mod = LinearRegression()\n",
    "\n",
    "lin_mod.fit(X_train, y_train)\n",
    "\n",
    "y_train_pred = lin_mod.predict(X_train)\n",
    "y_test_pred = lin_mod.predict(X_test)\n",
    "\n",
    "r2_train = r2_score(y_train, y_train_pred)\n",
    "r2_test = r2_score(y_test, y_test_pred)\n",
    "\n",
    "rmse_train = np.sqrt(mean_squared_error(y_train, y_train_pred))\n",
    "rmse_test = np.sqrt(mean_squared_error(y_test, y_test_pred))"
   ]
  },
  {
   "cell_type": "code",
   "execution_count": 95,
   "id": "5d972953",
   "metadata": {},
   "outputs": [
    {
     "name": "stdout",
     "output_type": "stream",
     "text": [
      "R^2 on training data: 0.9896645641615246\n",
      "R^2 on test data: 0.9853501178585291\n",
      "RMSE on training data: 1.2231529421684526\n",
      "RMSE on test data: 1.4023938892271555\n"
     ]
    }
   ],
   "source": [
    "print(\"R^2 on training data:\", r2_train)\n",
    "print(\"R^2 on test data:\", r2_test)\n",
    "print(\"RMSE on training data:\", rmse_train)\n",
    "print(\"RMSE on test data:\", rmse_test)"
   ]
  },
  {
   "cell_type": "code",
   "execution_count": 96,
   "id": "906bb5c0",
   "metadata": {},
   "outputs": [],
   "source": [
    "model_score('Linear Regression', r2_test, rmse_test)"
   ]
  },
  {
   "cell_type": "markdown",
   "id": "944b745b",
   "metadata": {},
   "source": [
    "# Random Forest"
   ]
  },
  {
   "cell_type": "code",
   "execution_count": 97,
   "id": "b0c9cc32",
   "metadata": {},
   "outputs": [],
   "source": [
    "estimator = RandomForestRegressor(n_estimators = 100, random_state = 1)"
   ]
  },
  {
   "cell_type": "code",
   "execution_count": 98,
   "id": "cdfba0e3",
   "metadata": {},
   "outputs": [],
   "source": [
    "estimator.fit(X_train, y_train)\n",
    "\n",
    "y_train_pred = estimator.predict(X_train)\n",
    "y_test_pred = estimator.predict(X_test)\n",
    "\n",
    "r2_train = r2_score(y_train, y_train_pred)\n",
    "r2_test = r2_score(y_test, y_test_pred)\n",
    "\n",
    "rmse_train = np.sqrt(mean_squared_error(y_train, y_train_pred))\n",
    "rmse_test = np.sqrt(mean_squared_error(y_test, y_test_pred))"
   ]
  },
  {
   "cell_type": "code",
   "execution_count": 99,
   "id": "eafede95",
   "metadata": {},
   "outputs": [
    {
     "name": "stdout",
     "output_type": "stream",
     "text": [
      "R^2 on training data: 0.9997720499325047\n",
      "R^2 on test data: 0.9972377478091763\n",
      "RMSE on training data: 0.1816503459218174\n",
      "RMSE on test data: 0.6089541698158188\n"
     ]
    }
   ],
   "source": [
    "print(\"R^2 on training data:\", r2_train)\n",
    "print(\"R^2 on test data:\", r2_test)\n",
    "print(\"RMSE on training data:\", rmse_train)\n",
    "print(\"RMSE on test data:\", rmse_test)"
   ]
  },
  {
   "cell_type": "code",
   "execution_count": 101,
   "id": "f80fd761",
   "metadata": {},
   "outputs": [
    {
     "name": "stdout",
     "output_type": "stream",
     "text": [
      "Difference between training and validation R-squared: 0.003\n"
     ]
    }
   ],
   "source": [
    "r2_diff = abs(r2_train - r2_test)\n",
    "print(\"Difference between training and validation R-squared: {:.3f}\".format(r2_diff))"
   ]
  },
  {
   "cell_type": "code",
   "execution_count": 102,
   "id": "e08683e6",
   "metadata": {},
   "outputs": [],
   "source": [
    "model_score('RF Regression', r2_test, rmse_test)"
   ]
  },
  {
   "cell_type": "markdown",
   "id": "668df056",
   "metadata": {},
   "source": [
    "# Linear SVM"
   ]
  },
  {
   "cell_type": "code",
   "execution_count": 113,
   "id": "ed0b3149",
   "metadata": {},
   "outputs": [],
   "source": [
    "estimator = SVR(kernel='linear')"
   ]
  },
  {
   "cell_type": "code",
   "execution_count": 114,
   "id": "71ec71e0",
   "metadata": {},
   "outputs": [],
   "source": [
    "estimator.fit(X_train, y_train)\n",
    "\n",
    "y_train_pred_linear = estimator.predict(X_train)\n",
    "y_test_pred_linear = estimator.predict(X_test)\n",
    "\n",
    "r2_train_linear = r2_score(y_train, y_train_pred_linear)\n",
    "r2_test_linear = r2_score(y_test, y_test_pred_linear)\n",
    "\n",
    "rmse_train_linear = np.sqrt(mean_squared_error(y_train, y_train_pred_linear))\n",
    "rmse_test_linear = np.sqrt(mean_squared_error(y_test, y_test_pred_linear))"
   ]
  },
  {
   "cell_type": "code",
   "execution_count": 115,
   "id": "b1d8134c",
   "metadata": {},
   "outputs": [
    {
     "name": "stdout",
     "output_type": "stream",
     "text": [
      "Linear SVM Regressor - R^2 on training data: 0.9886069634904308\n",
      "Linear SVM Regressor - R^2 on test data: 0.9835779495570377\n",
      "Linear SVM Regressor - RMSE on training data: 1.2842101887366557\n",
      "Linear SVM Regressor - RMSE on test data: 1.4847954779497847\n"
     ]
    }
   ],
   "source": [
    "print(\"Linear SVM Regressor - R^2 on training data:\", r2_train_linear)\n",
    "print(\"Linear SVM Regressor - R^2 on test data:\", r2_test_linear)\n",
    "print(\"Linear SVM Regressor - RMSE on training data:\", rmse_train_linear)\n",
    "print(\"Linear SVM Regressor - RMSE on test data:\", rmse_test_linear)"
   ]
  },
  {
   "cell_type": "code",
   "execution_count": 111,
   "id": "de32f0fa",
   "metadata": {},
   "outputs": [],
   "source": [
    "model_score('Linear SVM Regressor', r2_test_linear, rmse_test_linear)"
   ]
  },
  {
   "cell_type": "markdown",
   "id": "8738e57c",
   "metadata": {},
   "source": [
    "### Polynomial Kernel SVM Regressor"
   ]
  },
  {
   "cell_type": "code",
   "execution_count": 116,
   "id": "c2c1d67b",
   "metadata": {},
   "outputs": [],
   "source": [
    "estimator = SVR(kernel='poly')"
   ]
  },
  {
   "cell_type": "code",
   "execution_count": 117,
   "id": "3fdf4116",
   "metadata": {},
   "outputs": [],
   "source": [
    "estimator.fit(X_train, y_train)\n",
    "\n",
    "y_train_pred_poly = estimator.predict(X_train)\n",
    "y_test_pred_poly = estimator.predict(X_test)\n",
    "\n",
    "r2_train_poly = r2_score(y_train, y_train_pred_poly)\n",
    "r2_test_poly = r2_score(y_test, y_test_pred_poly)\n",
    "\n",
    "rmse_train_poly = np.sqrt(mean_squared_error(y_train, y_train_pred_poly))\n",
    "rmse_test_poly = np.sqrt(mean_squared_error(y_test, y_test_pred_poly))"
   ]
  },
  {
   "cell_type": "code",
   "execution_count": 118,
   "id": "a409f889",
   "metadata": {},
   "outputs": [
    {
     "name": "stdout",
     "output_type": "stream",
     "text": [
      "Polynomial SVM Regressor - R^2 on training data: 0.9882393962059581\n",
      "Polynomial SVM Regressor - R^2 on test data: 0.9847877694882932\n",
      "Polynomial SVM Regressor - RMSE on training data: 1.3047616288681125\n",
      "Polynomial SVM Regressor - RMSE on test data: 1.4290564818777967\n"
     ]
    }
   ],
   "source": [
    "print(\"Polynomial SVM Regressor - R^2 on training data:\", r2_train_poly)\n",
    "print(\"Polynomial SVM Regressor - R^2 on test data:\", r2_test_poly)\n",
    "print(\"Polynomial SVM Regressor - RMSE on training data:\", rmse_train_poly)\n",
    "print(\"Polynomial SVM Regressor - RMSE on test data:\", rmse_test_poly)"
   ]
  },
  {
   "cell_type": "code",
   "execution_count": 119,
   "id": "d3df0e90",
   "metadata": {},
   "outputs": [],
   "source": [
    "model_score('Polynomial SVM Regressor', r2_test_poly, rmse_test_poly)"
   ]
  },
  {
   "cell_type": "markdown",
   "id": "e2edc4a5",
   "metadata": {},
   "source": [
    "### RBF Kernel SVM Regressor"
   ]
  },
  {
   "cell_type": "code",
   "execution_count": 121,
   "id": "d1b8e9fa",
   "metadata": {},
   "outputs": [],
   "source": [
    "estimator = SVR(kernel='rbf')"
   ]
  },
  {
   "cell_type": "code",
   "execution_count": 122,
   "id": "1326a396",
   "metadata": {},
   "outputs": [],
   "source": [
    "estimator.fit(X_train, y_train)\n",
    "\n",
    "y_train_pred_rbf = estimator.predict(X_train)\n",
    "y_test_pred_rbf = estimator.predict(X_test)\n",
    "\n",
    "r2_train_rbf = r2_score(y_train, y_train_pred_rbf)\n",
    "r2_test_rbf = r2_score(y_test, y_test_pred_rbf)\n",
    "\n",
    "rmse_train_rbf = np.sqrt(mean_squared_error(y_train, y_train_pred_rbf))\n",
    "rmse_test_rbf = np.sqrt(mean_squared_error(y_test, y_test_pred_rbf))"
   ]
  },
  {
   "cell_type": "code",
   "execution_count": 123,
   "id": "bf2e4b72",
   "metadata": {},
   "outputs": [
    {
     "name": "stdout",
     "output_type": "stream",
     "text": [
      "RBF SVM Regressor - R^2 on training data: 0.9929518097863758\n",
      "RBF SVM Regressor - R^2 on test data: 0.9898580576497659\n",
      "RBF SVM Regressor - RMSE on training data: 1.010078610920019\n",
      "RBF SVM Regressor - RMSE on test data: 1.1668459256201147\n"
     ]
    }
   ],
   "source": [
    "print(\"RBF SVM Regressor - R^2 on training data:\", r2_train_rbf)\n",
    "print(\"RBF SVM Regressor - R^2 on test data:\", r2_test_rbf)\n",
    "print(\"RBF SVM Regressor - RMSE on training data:\", rmse_train_rbf)\n",
    "print(\"RBF SVM Regressor - RMSE on test data:\", rmse_test_rbf)"
   ]
  },
  {
   "cell_type": "code",
   "execution_count": 124,
   "id": "e1a74daa",
   "metadata": {},
   "outputs": [],
   "source": [
    "model_score('RBF SVM Regressor', r2_test_rbf, rmse_test_rbf)"
   ]
  },
  {
   "cell_type": "code",
   "execution_count": 125,
   "id": "a50e4a27",
   "metadata": {},
   "outputs": [
    {
     "name": "stdout",
     "output_type": "stream",
     "text": [
      "                      Model     Score      RMSE\n",
      "0         Linear Regression  0.985350  1.402394\n",
      "1             RF Regression  0.997238  0.608954\n",
      "2      Linear SVM Regressor  0.983578  1.484795\n",
      "3  Polynomial SVM Regressor  0.984788  1.429056\n",
      "4         RBF SVM Regressor  0.989858  1.166846\n"
     ]
    }
   ],
   "source": [
    "print(scores)"
   ]
  },
  {
   "cell_type": "markdown",
   "id": "65174ccf",
   "metadata": {},
   "source": [
    "# PCA"
   ]
  },
  {
   "cell_type": "code",
   "execution_count": 127,
   "id": "05052a5e",
   "metadata": {},
   "outputs": [],
   "source": [
    "pca = PCA(n_components=None)\n",
    "\n",
    "pca.fit(X_train)\n",
    "X_train_pca = pca.transform(X_train)\n",
    "X_test_pca = pca.transform(X_test)"
   ]
  },
  {
   "cell_type": "code",
   "execution_count": 128,
   "id": "e5dbd499",
   "metadata": {},
   "outputs": [
    {
     "name": "stdout",
     "output_type": "stream",
     "text": [
      "[0.1886336  0.33429085 0.45226178 0.54872829 0.62719156 0.69562482\n",
      " 0.75875403 0.81502278 0.87039916 0.91505912 0.95554188 0.98114604\n",
      " 0.99436739 1.         1.        ]\n"
     ]
    },
    {
     "data": {
      "image/png": "[encoded data removed]",
      "text/plain": [
       "<Figure size 432x288 with 1 Axes>"
      ]
     },
     "metadata": {
      "needs_background": "light"
     },
     "output_type": "display_data"
    }
   ],
   "source": [
    "print(pca.explained_variance_ratio_.cumsum())\n",
    "plt.plot(pca.explained_variance_ratio_.cumsum(), '-o');\n",
    "plt.xticks(ticks= range(X_train_pca.shape[1]), labels=[i+1 for i in range(X_train_pca.shape[1])])\n",
    "plt.xlabel('Principal Components')\n",
    "plt.ylabel('Variance Explained')\n",
    "plt.show()"
   ]
  },
  {
   "cell_type": "code",
   "execution_count": 129,
   "id": "adfa15b4",
   "metadata": {},
   "outputs": [],
   "source": [
    "X_train_pca2 = X_train_pca[:, 0:11]\n",
    "X_test_pca2 = X_test_pca[:, 0:11]"
   ]
  },
  {
   "cell_type": "markdown",
   "id": "9aa5b61a",
   "metadata": {},
   "source": [
    "# Linear Regression After PCA"
   ]
  },
  {
   "cell_type": "code",
   "execution_count": 130,
   "id": "c208de6c",
   "metadata": {},
   "outputs": [],
   "source": [
    "estimator = LinearRegression()\n",
    "estimator.fit(X_train_pca2, y_train)\n",
    "\n",
    "y_train_pred_linear = estimator.predict(X_train_pca2)\n",
    "y_test_pred_linear = estimator.predict(X_test_pca2)\n",
    "\n",
    "r2_train_linear = r2_score(y_train, y_train_pred_linear)\n",
    "r2_test_linear = r2_score(y_test, y_test_pred_linear)\n",
    "\n",
    "rmse_train_linear = np.sqrt(mean_squared_error(y_train, y_train_pred_linear))\n",
    "rmse_test_linear = np.sqrt(mean_squared_error(y_test, y_test_pred_linear))"
   ]
  },
  {
   "cell_type": "code",
   "execution_count": 131,
   "id": "d7b3a895",
   "metadata": {},
   "outputs": [
    {
     "name": "stdout",
     "output_type": "stream",
     "text": [
      "PCA Linear regression - R^2 on training data: 0.8756844401462612\n",
      "PCA Linear regression - R^2 on test data: 0.8760569217280489\n",
      "PCA Linear regression - RMSE on training data: 4.242082512982414\n",
      "PCA Linear regression - RMSE on test data: 4.079097483883054\n"
     ]
    }
   ],
   "source": [
    "print(\"PCA Linear regression - R^2 on training data:\", r2_train_linear)\n",
    "print(\"PCA Linear regression - R^2 on test data:\", r2_test_linear)\n",
    "print(\"PCA Linear regression - RMSE on training data:\", rmse_train_linear)\n",
    "print(\"PCA Linear regression - RMSE on test data:\", rmse_test_linear)"
   ]
  },
  {
   "cell_type": "code",
   "execution_count": 132,
   "id": "e3c25480",
   "metadata": {},
   "outputs": [],
   "source": [
    "model_score('Linear Regression (PCA)', r2_test_linear, rmse_test_linear)"
   ]
  },
  {
   "cell_type": "code",
   "execution_count": 133,
   "id": "cea828d1",
   "metadata": {},
   "outputs": [
    {
     "name": "stdout",
     "output_type": "stream",
     "text": [
      "                      Model     Score      RMSE\n",
      "0         Linear Regression  0.985350  1.402394\n",
      "1             RF Regression  0.997238  0.608954\n",
      "2      Linear SVM Regressor  0.983578  1.484795\n",
      "3  Polynomial SVM Regressor  0.984788  1.429056\n",
      "4         RBF SVM Regressor  0.989858  1.166846\n",
      "5   Linear Regression (PCA)  0.876057  4.079097\n"
     ]
    }
   ],
   "source": [
    "print(scores)"
   ]
  },
  {
   "cell_type": "markdown",
   "id": "66e40608",
   "metadata": {},
   "source": [
    "# **RF Regression with PCA transformed data**"
   ]
  },
  {
   "cell_type": "code",
   "execution_count": 134,
   "id": "0a75f6f0",
   "metadata": {},
   "outputs": [],
   "source": [
    "estimator = RandomForestRegressor(n_estimators=100)\n",
    "\n",
    "estimator.fit(X_train_pca, y_train)\n",
    "\n",
    "y_train_pred_rf = estimator.predict(X_train_pca)\n",
    "y_test_pred_rf = estimator.predict(X_test_pca)\n",
    "\n",
    "r2_train_rf = r2_score(y_train, y_train_pred_rf)\n",
    "r2_test_rf = r2_score(y_test, y_test_pred_rf)\n",
    "\n",
    "rmse_train_rf = np.sqrt(mean_squared_error(y_train, y_train_pred_rf))\n",
    "rmse_test_rf = np.sqrt(mean_squared_error(y_test, y_test_pred_rf))"
   ]
  },
  {
   "cell_type": "code",
   "execution_count": 135,
   "id": "c0cb39a5",
   "metadata": {},
   "outputs": [
    {
     "name": "stdout",
     "output_type": "stream",
     "text": [
      "PCA RF regression - R^2 on training data: 0.998409363818766\n",
      "PCA RF regression - R^2 on test data: 0.9868110918408972\n",
      "PCA RF regression - RMSE on training data: 0.4798459074448298\n",
      "PCA RF regression - RMSE on test data: 1.3306301735177204\n"
     ]
    }
   ],
   "source": [
    "print(\"PCA RF regression - R^2 on training data:\", r2_train_rf)\n",
    "print(\"PCA RF regression - R^2 on test data:\", r2_test_rf)\n",
    "print(\"PCA RF regression - RMSE on training data:\", rmse_train_rf)\n",
    "print(\"PCA RF regression - RMSE on test data:\", rmse_test_rf)"
   ]
  },
  {
   "cell_type": "code",
   "execution_count": 136,
   "id": "d425e585",
   "metadata": {},
   "outputs": [],
   "source": [
    "model_score('RF Regression (PCA)', r2_test_rf, rmse_test_rf)"
   ]
  },
  {
   "cell_type": "code",
   "execution_count": 137,
   "id": "2030346e",
   "metadata": {},
   "outputs": [
    {
     "name": "stdout",
     "output_type": "stream",
     "text": [
      "                      Model     Score      RMSE\n",
      "0         Linear Regression  0.985350  1.402394\n",
      "1             RF Regression  0.997238  0.608954\n",
      "2      Linear SVM Regressor  0.983578  1.484795\n",
      "3  Polynomial SVM Regressor  0.984788  1.429056\n",
      "4         RBF SVM Regressor  0.989858  1.166846\n",
      "5   Linear Regression (PCA)  0.876057  4.079097\n",
      "6       RF Regression (PCA)  0.986811  1.330630\n"
     ]
    }
   ],
   "source": [
    "print(scores)"
   ]
  },
  {
   "cell_type": "markdown",
   "id": "ce7b88ca",
   "metadata": {},
   "source": [
    "# **SVM Regression with PCA transformed data**"
   ]
  },
  {
   "cell_type": "code",
   "execution_count": 138,
   "id": "4a8fb257",
   "metadata": {},
   "outputs": [],
   "source": [
    "estimator = SVR(kernel='rbf')\n",
    "\n",
    "estimator.fit(X_train_pca, y_train)\n",
    "\n",
    "y_train_pred_svr = estimator.predict(X_train_pca)\n",
    "y_test_pred_svr = estimator.predict(X_test_pca)\n",
    "\n",
    "r2_train_svr = r2_score(y_train, y_train_pred_svr)\n",
    "r2_test_svr = r2_score(y_test, y_test_pred_svr)\n",
    "\n",
    "rmse_train_svr = np.sqrt(mean_squared_error(y_train, y_train_pred_svr))\n",
    "rmse_test_svr = np.sqrt(mean_squared_error(y_test, y_test_pred_svr))"
   ]
  },
  {
   "cell_type": "code",
   "execution_count": 139,
   "id": "35eb0233",
   "metadata": {},
   "outputs": [
    {
     "name": "stdout",
     "output_type": "stream",
     "text": [
      "PCA SVM RBF regression - R^2 on training data: 0.9929518097863758\n",
      "PCA SVM RBF regression - R^2 on test data: 0.9898580576497659\n",
      "PCA SVM RBF regression - RMSE on training data: 1.0100786109200197\n",
      "PCA SVM RBF regression - RMSE on test data: 1.166845925620115\n"
     ]
    }
   ],
   "source": [
    "print(\"PCA SVM RBF regression - R^2 on training data:\", r2_train_svr)\n",
    "print(\"PCA SVM RBF regression - R^2 on test data:\", r2_test_svr)\n",
    "print(\"PCA SVM RBF regression - RMSE on training data:\", rmse_train_svr)\n",
    "print(\"PCA SVM RBF regression - RMSE on test data:\", rmse_test_svr)"
   ]
  },
  {
   "cell_type": "code",
   "execution_count": 140,
   "id": "7018dbf0",
   "metadata": {},
   "outputs": [],
   "source": [
    "model_score('SVM RBF Regression (PCA)', r2_test_svr, rmse_test_svr)"
   ]
  },
  {
   "cell_type": "code",
   "execution_count": 141,
   "id": "32201b0e",
   "metadata": {},
   "outputs": [
    {
     "name": "stdout",
     "output_type": "stream",
     "text": [
      "                      Model     Score      RMSE\n",
      "0         Linear Regression  0.985350  1.402394\n",
      "1             RF Regression  0.997238  0.608954\n",
      "2      Linear SVM Regressor  0.983578  1.484795\n",
      "3  Polynomial SVM Regressor  0.984788  1.429056\n",
      "4         RBF SVM Regressor  0.989858  1.166846\n",
      "5   Linear Regression (PCA)  0.876057  4.079097\n",
      "6       RF Regression (PCA)  0.986811  1.330630\n",
      "7  SVM RBF Regression (PCA)  0.989858  1.166846\n"
     ]
    }
   ],
   "source": [
    "print(scores)"
   ]
  },
  {
   "cell_type": "markdown",
   "id": "d7e16187",
   "metadata": {},
   "source": [
    "**From the scores and RMSE values, it seems that the Random Forest Regression and RBF SVM Regression models (both with and without PCA) perform relatively well, achieving high scores and low RMSE values.**\n",
    "\n",
    "\n",
    "**The Linear Regression model without PCA also achieves a high score but has a higher RMSE compared to the other models. This might suggest that the linear relationship assumed by the Linear Regression model might not capture all the complexities in the data, leading to higher prediction errors.**"
   ]
  }
 ],
 "metadata": {
  "kernelspec": {
   "display_name": "Python 3 (ipykernel)",
   "language": "python",
   "name": "python3"
  },
  "language_info": {
   "codemirror_mode": {
    "name": "ipython",
    "version": 3
   },
   "file_extension": ".py",
   "mimetype": "text/x-python",
   "name": "python",
   "nbconvert_exporter": "python",
   "pygments_lexer": "ipython3",
   "version": "3.11.5"
  }
 },
 "nbformat": 4,
 "nbformat_minor": 5
}
